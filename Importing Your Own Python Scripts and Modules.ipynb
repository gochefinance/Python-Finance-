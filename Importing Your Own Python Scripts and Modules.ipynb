{
 "cells": [
  {
   "cell_type": "markdown",
   "metadata": {},
   "source": [
    "## Importing Your Own Python Scripts and Modules\n",
    "\n",
    "\n",
    "### Using `Import` and the `sys` package\n",
    "If you want to use python functions that you wrote on a file you can use the built-in function `import` that lets you import python scripts that are in your python path directory. Meaning that they have to be saved inside a recognizable python path. The importing syntax is very intuitive, you just write `import filename` and you have just loaded your file into the local scope.\n",
    "\n",
    "However, if your file is not part of a recognizable path, you are going to have to add the file's directory before you can import it. This is a very easy thing to do. All you need to do is import the built-in `sys` library and call the path method. This allows you to access all the python paths that import can call upon on in a form of a list. All you need to do is append the path you want to add like how you would in a regular list. I will comment out the path because I already have the path I want added to my directory.\n",
    "\n"
   ]
  },
  {
   "cell_type": "code",
   "execution_count": 1,
   "metadata": {},
   "outputs": [
    {
     "data": {
      "text/plain": [
       "['C:\\\\Users\\\\sespejog\\\\OneDrive\\\\Data Analysis\\\\Python Tutorials\\\\Python Finance Youtube',\n",
       " 'C:\\\\Users\\\\sespejog\\\\Anaconda3\\\\python37.zip',\n",
       " 'C:\\\\Users\\\\sespejog\\\\Anaconda3\\\\DLLs',\n",
       " 'C:\\\\Users\\\\sespejog\\\\Anaconda3\\\\lib',\n",
       " 'C:\\\\Users\\\\sespejog\\\\Anaconda3',\n",
       " '',\n",
       " 'C:\\\\Users\\\\sespejog\\\\Anaconda3\\\\lib\\\\site-packages',\n",
       " 'C:\\\\Users\\\\sespejog\\\\Anaconda3\\\\lib\\\\site-packages\\\\win32',\n",
       " 'C:\\\\Users\\\\sespejog\\\\Anaconda3\\\\lib\\\\site-packages\\\\win32\\\\lib',\n",
       " 'C:\\\\Users\\\\sespejog\\\\Anaconda3\\\\lib\\\\site-packages\\\\Pythonwin',\n",
       " 'C:\\\\Users\\\\sespejog\\\\Anaconda3\\\\lib\\\\site-packages\\\\IPython\\\\extensions',\n",
       " 'C:\\\\Users\\\\sespejog\\\\.ipython']"
      ]
     },
     "execution_count": 1,
     "metadata": {},
     "output_type": "execute_result"
    }
   ],
   "source": [
    "import sys\n",
    "sys.path\n",
    "#sys.path.append(\"your file path here\")"
   ]
  },
  {
   "cell_type": "markdown",
   "metadata": {},
   "source": [
    "### importing files with IPython\n",
    "\n",
    "If you do not want to add a path but still want to load a file in IPython, you can just use the magic command `%run` with the file name next to it, it has to be put in double quotes for some reason."
   ]
  },
  {
   "cell_type": "code",
   "execution_count": 2,
   "metadata": {},
   "outputs": [],
   "source": [
    "%run \"C:\\Users\\sespejog\\OneDrive\\Data Analysis\\Finance and Economics\\stock_reader.py\"\n",
    "# now all the funcions have been called"
   ]
  },
  {
   "cell_type": "code",
   "execution_count": 3,
   "metadata": {},
   "outputs": [
    {
     "data": {
      "text/html": [
       "<div>\n",
       "<style scoped>\n",
       "    .dataframe tbody tr th:only-of-type {\n",
       "        vertical-align: middle;\n",
       "    }\n",
       "\n",
       "    .dataframe tbody tr th {\n",
       "        vertical-align: top;\n",
       "    }\n",
       "\n",
       "    .dataframe thead th {\n",
       "        text-align: right;\n",
       "    }\n",
       "</style>\n",
       "<table border=\"1\" class=\"dataframe\">\n",
       "  <thead>\n",
       "    <tr style=\"text-align: right;\">\n",
       "      <th></th>\n",
       "      <th>High TSLA</th>\n",
       "      <th>Low TSLA</th>\n",
       "      <th>Open TSLA</th>\n",
       "      <th>Close TSLA</th>\n",
       "      <th>Volume TSLA</th>\n",
       "      <th>Adj Close TSLA</th>\n",
       "      <th>Daily Return TSLA</th>\n",
       "    </tr>\n",
       "    <tr>\n",
       "      <th>Date</th>\n",
       "      <th></th>\n",
       "      <th></th>\n",
       "      <th></th>\n",
       "      <th></th>\n",
       "      <th></th>\n",
       "      <th></th>\n",
       "      <th></th>\n",
       "    </tr>\n",
       "  </thead>\n",
       "  <tbody>\n",
       "    <tr>\n",
       "      <th>2011-07-11 00:00:00</th>\n",
       "      <td>28.530001</td>\n",
       "      <td>28.00</td>\n",
       "      <td>28.400000</td>\n",
       "      <td>28.350000</td>\n",
       "      <td>975800</td>\n",
       "      <td>28.350000</td>\n",
       "      <td>NaN</td>\n",
       "    </tr>\n",
       "    <tr>\n",
       "      <th>2011-07-12 00:00:00</th>\n",
       "      <td>29.090000</td>\n",
       "      <td>28.00</td>\n",
       "      <td>28.370001</td>\n",
       "      <td>28.170000</td>\n",
       "      <td>1045400</td>\n",
       "      <td>28.170000</td>\n",
       "      <td>-0.006349</td>\n",
       "    </tr>\n",
       "    <tr>\n",
       "      <th>2011-07-13 00:00:00</th>\n",
       "      <td>29.030001</td>\n",
       "      <td>27.90</td>\n",
       "      <td>28.430000</td>\n",
       "      <td>28.639999</td>\n",
       "      <td>1066000</td>\n",
       "      <td>28.639999</td>\n",
       "      <td>0.016684</td>\n",
       "    </tr>\n",
       "    <tr>\n",
       "      <th>2011-07-14 00:00:00</th>\n",
       "      <td>28.959999</td>\n",
       "      <td>27.25</td>\n",
       "      <td>28.530001</td>\n",
       "      <td>27.610001</td>\n",
       "      <td>1159000</td>\n",
       "      <td>27.610001</td>\n",
       "      <td>-0.035964</td>\n",
       "    </tr>\n",
       "    <tr>\n",
       "      <th>2011-07-15 00:00:00</th>\n",
       "      <td>27.830000</td>\n",
       "      <td>27.40</td>\n",
       "      <td>27.790001</td>\n",
       "      <td>27.580000</td>\n",
       "      <td>709000</td>\n",
       "      <td>27.580000</td>\n",
       "      <td>-0.001087</td>\n",
       "    </tr>\n",
       "  </tbody>\n",
       "</table>\n",
       "</div>"
      ],
      "text/plain": [
       "                     High TSLA  Low TSLA  Open TSLA  Close TSLA  Volume TSLA  \\\n",
       "Date                                                                           \n",
       "2011-07-11 00:00:00  28.530001     28.00  28.400000   28.350000       975800   \n",
       "2011-07-12 00:00:00  29.090000     28.00  28.370001   28.170000      1045400   \n",
       "2011-07-13 00:00:00  29.030001     27.90  28.430000   28.639999      1066000   \n",
       "2011-07-14 00:00:00  28.959999     27.25  28.530001   27.610001      1159000   \n",
       "2011-07-15 00:00:00  27.830000     27.40  27.790001   27.580000       709000   \n",
       "\n",
       "                     Adj Close TSLA  Daily Return TSLA  \n",
       "Date                                                    \n",
       "2011-07-11 00:00:00       28.350000                NaN  \n",
       "2011-07-12 00:00:00       28.170000          -0.006349  \n",
       "2011-07-13 00:00:00       28.639999           0.016684  \n",
       "2011-07-14 00:00:00       27.610001          -0.035964  \n",
       "2011-07-15 00:00:00       27.580000          -0.001087  "
      ]
     },
     "execution_count": 3,
     "metadata": {},
     "output_type": "execute_result"
    }
   ],
   "source": [
    "beginning=start_date(2011,7,9)\n",
    "TSLA=load_stock(\"TSLA\",beginning)\n",
    "TSLA.head()#proof that it works"
   ]
  },
  {
   "cell_type": "markdown",
   "metadata": {},
   "source": [
    "The `%load` magic function runs in a similar way except that it pastes all the output of the file in a cell."
   ]
  },
  {
   "cell_type": "code",
   "execution_count": 5,
   "metadata": {},
   "outputs": [],
   "source": [
    "# %load \"C:\\Users\\sespejog\\OneDrive\\Python Finance Prompts\\Video Code\\stock_reader.py\"\n",
    "import pandas as pd \n",
    "import datetime as dt \n",
    "import pandas_datareader as web \n",
    "def rename_stocks(dataframe,new_word):\n",
    "    '''\n",
    "    returns a dict of the new column name with the new word on it\n",
    "    '''\n",
    "    return {i:\"{0:} {1:}\".format(i,new_word) for i in dataframe.columns}\n",
    "def get_stock(company_name,year,month,day):\n",
    "    \"\"\"\n",
    "    it returns a pandas dataframe of the company name and date you specified\n",
    "    \"\"\"\n",
    "    start=dt.datetime(year,month,day).date()\n",
    "    end=pd.to_datetime(\"today\").date()\n",
    "    Stock_Data=web.DataReader(company_name,\"yahoo\",start,end)\n",
    "    Stock_Data=Stock_Data.rename(index=str,columns=rename_stocks(Stock_Data,company_name))\n",
    "    Stock_Data[\"Daily Return {:}\".format(company_name)]=(Stock_Data[\"Adj Close {:}\".format(company_name)]-Stock_Data[\"Adj Close {:}\".format(company_name)].shift(1))/Stock_Data[\"Adj Close {:}\".format(company_name)].shift(1)\n",
    "    return Stock_Data\n"
   ]
  },
  {
   "cell_type": "code",
   "execution_count": null,
   "metadata": {},
   "outputs": [],
   "source": []
  }
 ],
 "metadata": {
  "kernelspec": {
   "display_name": "Python 3",
   "language": "python",
   "name": "python3"
  },
  "language_info": {
   "codemirror_mode": {
    "name": "ipython",
    "version": 3
   },
   "file_extension": ".py",
   "mimetype": "text/x-python",
   "name": "python",
   "nbconvert_exporter": "python",
   "pygments_lexer": "ipython3",
   "version": "3.7.3"
  }
 },
 "nbformat": 4,
 "nbformat_minor": 2
}
