{
 "cells": [
  {
   "cell_type": "markdown",
   "metadata": {},
   "source": [
    "# Beta\n",
    "\n",
    "## Finding $ \\beta$\n",
    "  \n",
    " $\\beta$ in statistical terms is the slope of the least squares regression line of the daily returns of the stock market versus the daily returns of the specific stock we are looking for. What $\\beta$ tells you is for a one percentage increase of the stock market, you will get an increase of $\\beta$% in that specific stock. For the sake of this example we will be using Ford as our particular stock. Beta is a measure of volatility, which is good for seeing how stock prices change with the stock market.\n",
    " \n",
    " $\\beta$ Is measured by taking the covariance of the daily returns of the stock market and the Ford divided over the variance of the return of the stock market. Here is the formula for $\\beta$.\n",
    " \n",
    " $$ \\beta = \\frac{Cov(R_m, R_T)}{Var(R_m)}$$ \n",
    "\n",
    "In which $R_T$ is the daily return percentage of Ford and $R_m$ the return percentage of the S&P 500.\n",
    "\n",
    "\n",
    "We are first going to find beta using the formula mentioned above, and afterwards we are going to use a linear regression to calculate beta.\n",
    "\n",
    "In order to find $\\beta$ in python we are going to load the following python libraries:\n",
    "\n"
   ]
  },
  {
   "cell_type": "code",
   "execution_count": 42,
   "metadata": {},
   "outputs": [],
   "source": [
    "#For Time and Dates\n",
    "import datetime as dt\n",
    "\n",
    "#For plotting\n",
    "import matplotlib.pyplot as plt\n",
    "from matplotlib import style\n",
    "\n",
    "#For Data Wrangling\n",
    "import pandas as pd \n",
    "import numpy as np\n",
    "\n",
    "#For Web Scrapping\n",
    "import pandas_datareader.data as web"
   ]
  },
  {
   "cell_type": "markdown",
   "metadata": {},
   "source": [
    "We are going to mainly use `pandas` and `datetime` to load stock data from yahoo using `pandas_datareader`."
   ]
  },
  {
   "cell_type": "code",
   "execution_count": 43,
   "metadata": {},
   "outputs": [],
   "source": [
    "start=dt.datetime(2000,1,1).date() #earliest value\n",
    "end=pd.to_datetime(\"today\").date() #latest value\n",
    "company=\"F\" #change this if you want to see another company\n",
    "df =web.DataReader(company,'yahoo',start,end)\n",
    "def rename_columns(df,company):\n",
    "    ''' This creates a dictionary of the old names with the corresponding new ones'''\n",
    "    return {i:\"{0:} {1:}\".format(i,company) for i in df.columns}\n",
    "df = df.rename(index=str, columns=rename_columns(df,company))##Creates new values\n",
    "df.index = pd.to_datetime(df.index)#Gets rid of the minutes of the index"
   ]
  },
  {
   "cell_type": "code",
   "execution_count": null,
   "metadata": {},
   "outputs": [],
   "source": []
  },
  {
   "cell_type": "markdown",
   "metadata": {},
   "source": [
    "Now we are going to calculate daily returns by using this simple equation:\n",
    "\n",
    "$ \\frac{Todays \\ Adj. \\ Close \\ -  Yesterdays \\ Adj. \\ Close}{ Yesterdays \\ Adj. \\ Close} $"
   ]
  },
  {
   "cell_type": "code",
   "execution_count": 44,
   "metadata": {},
   "outputs": [
    {
     "data": {
      "text/html": [
       "<div>\n",
       "<style scoped>\n",
       "    .dataframe tbody tr th:only-of-type {\n",
       "        vertical-align: middle;\n",
       "    }\n",
       "\n",
       "    .dataframe tbody tr th {\n",
       "        vertical-align: top;\n",
       "    }\n",
       "\n",
       "    .dataframe thead th {\n",
       "        text-align: right;\n",
       "    }\n",
       "</style>\n",
       "<table border=\"1\" class=\"dataframe\">\n",
       "  <thead>\n",
       "    <tr style=\"text-align: right;\">\n",
       "      <th></th>\n",
       "      <th>High F</th>\n",
       "      <th>Low F</th>\n",
       "      <th>Open F</th>\n",
       "      <th>Close F</th>\n",
       "      <th>Volume F</th>\n",
       "      <th>Adj Close F</th>\n",
       "    </tr>\n",
       "    <tr>\n",
       "      <th>Date</th>\n",
       "      <th></th>\n",
       "      <th></th>\n",
       "      <th></th>\n",
       "      <th></th>\n",
       "      <th></th>\n",
       "      <th></th>\n",
       "    </tr>\n",
       "  </thead>\n",
       "  <tbody>\n",
       "    <tr>\n",
       "      <th>2000-01-03</th>\n",
       "      <td>29.228899</td>\n",
       "      <td>28.645008</td>\n",
       "      <td>28.988474</td>\n",
       "      <td>28.782394</td>\n",
       "      <td>4056600.0</td>\n",
       "      <td>15.603897</td>\n",
       "    </tr>\n",
       "    <tr>\n",
       "      <th>2000-01-04</th>\n",
       "      <td>28.713701</td>\n",
       "      <td>27.648958</td>\n",
       "      <td>28.473276</td>\n",
       "      <td>27.820692</td>\n",
       "      <td>7322400.0</td>\n",
       "      <td>15.082524</td>\n",
       "    </tr>\n",
       "    <tr>\n",
       "      <th>2000-01-05</th>\n",
       "      <td>28.301542</td>\n",
       "      <td>27.889385</td>\n",
       "      <td>28.026772</td>\n",
       "      <td>27.923731</td>\n",
       "      <td>5038200.0</td>\n",
       "      <td>15.138391</td>\n",
       "    </tr>\n",
       "    <tr>\n",
       "      <th>2000-01-06</th>\n",
       "      <td>28.473276</td>\n",
       "      <td>27.683306</td>\n",
       "      <td>28.026772</td>\n",
       "      <td>27.958078</td>\n",
       "      <td>4544900.0</td>\n",
       "      <td>15.157002</td>\n",
       "    </tr>\n",
       "    <tr>\n",
       "      <th>2000-01-07</th>\n",
       "      <td>30.224949</td>\n",
       "      <td>28.645008</td>\n",
       "      <td>28.851088</td>\n",
       "      <td>30.018869</td>\n",
       "      <td>9266000.0</td>\n",
       "      <td>16.274221</td>\n",
       "    </tr>\n",
       "  </tbody>\n",
       "</table>\n",
       "</div>"
      ],
      "text/plain": [
       "               High F      Low F     Open F    Close F   Volume F  Adj Close F\n",
       "Date                                                                          \n",
       "2000-01-03  29.228899  28.645008  28.988474  28.782394  4056600.0    15.603897\n",
       "2000-01-04  28.713701  27.648958  28.473276  27.820692  7322400.0    15.082524\n",
       "2000-01-05  28.301542  27.889385  28.026772  27.923731  5038200.0    15.138391\n",
       "2000-01-06  28.473276  27.683306  28.026772  27.958078  4544900.0    15.157002\n",
       "2000-01-07  30.224949  28.645008  28.851088  30.018869  9266000.0    16.274221"
      ]
     },
     "execution_count": 44,
     "metadata": {},
     "output_type": "execute_result"
    }
   ],
   "source": [
    "df.head() #here we see the data that we have "
   ]
  },
  {
   "cell_type": "code",
   "execution_count": 45,
   "metadata": {
    "scrolled": true
   },
   "outputs": [
    {
     "data": {
      "text/plain": [
       "<matplotlib.axes._subplots.AxesSubplot at 0x287fc2f5240>"
      ]
     },
     "execution_count": 45,
     "metadata": {},
     "output_type": "execute_result"
    },
    {
     "data": {
      "image/png": "[encoded data removed]",
      "text/plain": [
       "<Figure size 432x288 with 1 Axes>"
      ]
     },
     "metadata": {
      "needs_background": "light"
     },
     "output_type": "display_data"
    }
   ],
   "source": [
    "%matplotlib inline\n",
    "df[\"Daily Return {:}\".format(company)]=(df[\"Adj Close {:}\".format(company)]-df[\"Adj Close {:}\".format(company)].shift(1))/df[\"Adj Close {:}\".format(company)].shift(1)\n",
    "df[\"Daily Return {:}\".format(company)].plot(title=\"Daily Return of {:}\".format(company))\n"
   ]
  },
  {
   "cell_type": "code",
   "execution_count": 46,
   "metadata": {},
   "outputs": [
    {
     "name": "stdout",
     "output_type": "stream",
     "text": [
      "This is the daily return for F. Next We find the daily return for the S&P 500\n"
     ]
    }
   ],
   "source": [
    "print(\"This is the daily return for {:}. Next We find the daily return for the S&P 500\".format(company))"
   ]
  },
  {
   "cell_type": "code",
   "execution_count": 47,
   "metadata": {},
   "outputs": [
    {
     "data": {
      "text/html": [
       "<div>\n",
       "<style scoped>\n",
       "    .dataframe tbody tr th:only-of-type {\n",
       "        vertical-align: middle;\n",
       "    }\n",
       "\n",
       "    .dataframe tbody tr th {\n",
       "        vertical-align: top;\n",
       "    }\n",
       "\n",
       "    .dataframe thead th {\n",
       "        text-align: right;\n",
       "    }\n",
       "</style>\n",
       "<table border=\"1\" class=\"dataframe\">\n",
       "  <thead>\n",
       "    <tr style=\"text-align: right;\">\n",
       "      <th></th>\n",
       "      <th>High SPY</th>\n",
       "      <th>Low SPY</th>\n",
       "      <th>Open SPY</th>\n",
       "      <th>Close SPY</th>\n",
       "      <th>Volume SPY</th>\n",
       "      <th>Adj Close SPY</th>\n",
       "    </tr>\n",
       "    <tr>\n",
       "      <th>Date</th>\n",
       "      <th></th>\n",
       "      <th></th>\n",
       "      <th></th>\n",
       "      <th></th>\n",
       "      <th></th>\n",
       "      <th></th>\n",
       "    </tr>\n",
       "  </thead>\n",
       "  <tbody>\n",
       "    <tr>\n",
       "      <th>2000-01-03</th>\n",
       "      <td>148.25000</td>\n",
       "      <td>143.875000</td>\n",
       "      <td>148.25000</td>\n",
       "      <td>145.4375</td>\n",
       "      <td>8164300.0</td>\n",
       "      <td>100.934494</td>\n",
       "    </tr>\n",
       "    <tr>\n",
       "      <th>2000-01-04</th>\n",
       "      <td>144.06250</td>\n",
       "      <td>139.640625</td>\n",
       "      <td>143.53125</td>\n",
       "      <td>139.7500</td>\n",
       "      <td>8089800.0</td>\n",
       "      <td>96.987312</td>\n",
       "    </tr>\n",
       "    <tr>\n",
       "      <th>2000-01-05</th>\n",
       "      <td>141.53125</td>\n",
       "      <td>137.250000</td>\n",
       "      <td>139.93750</td>\n",
       "      <td>140.0000</td>\n",
       "      <td>12177900.0</td>\n",
       "      <td>97.160843</td>\n",
       "    </tr>\n",
       "    <tr>\n",
       "      <th>2000-01-06</th>\n",
       "      <td>141.50000</td>\n",
       "      <td>137.750000</td>\n",
       "      <td>139.62500</td>\n",
       "      <td>137.7500</td>\n",
       "      <td>6227200.0</td>\n",
       "      <td>95.599319</td>\n",
       "    </tr>\n",
       "    <tr>\n",
       "      <th>2000-01-07</th>\n",
       "      <td>145.75000</td>\n",
       "      <td>140.062500</td>\n",
       "      <td>140.31250</td>\n",
       "      <td>145.7500</td>\n",
       "      <td>8066500.0</td>\n",
       "      <td>101.151367</td>\n",
       "    </tr>\n",
       "  </tbody>\n",
       "</table>\n",
       "</div>"
      ],
      "text/plain": [
       "             High SPY     Low SPY   Open SPY  Close SPY  Volume SPY  \\\n",
       "Date                                                                  \n",
       "2000-01-03  148.25000  143.875000  148.25000   145.4375   8164300.0   \n",
       "2000-01-04  144.06250  139.640625  143.53125   139.7500   8089800.0   \n",
       "2000-01-05  141.53125  137.250000  139.93750   140.0000  12177900.0   \n",
       "2000-01-06  141.50000  137.750000  139.62500   137.7500   6227200.0   \n",
       "2000-01-07  145.75000  140.062500  140.31250   145.7500   8066500.0   \n",
       "\n",
       "            Adj Close SPY  \n",
       "Date                       \n",
       "2000-01-03     100.934494  \n",
       "2000-01-04      96.987312  \n",
       "2000-01-05      97.160843  \n",
       "2000-01-06      95.599319  \n",
       "2000-01-07     101.151367  "
      ]
     },
     "execution_count": 47,
     "metadata": {},
     "output_type": "execute_result"
    }
   ],
   "source": [
    "stock_market=\"SPY\"\n",
    "df_stock_market = web.DataReader(stock_market,'yahoo',start,end)\n",
    "df_stock_market=df_stock_market.rename(index=str, columns=rename_columns(df_stock_market,stock_market))\n",
    "df_stock_market.index = pd.to_datetime(df_stock_market.index)\n",
    "df_stock_market.head()"
   ]
  },
  {
   "cell_type": "code",
   "execution_count": 48,
   "metadata": {},
   "outputs": [
    {
     "data": {
      "text/plain": [
       "<matplotlib.axes._subplots.AxesSubplot at 0x287fc2f7978>"
      ]
     },
     "execution_count": 48,
     "metadata": {},
     "output_type": "execute_result"
    },
    {
     "data": {
      "image/png": "[encoded data removed]",
      "text/plain": [
       "<Figure size 432x288 with 1 Axes>"
      ]
     },
     "metadata": {
      "needs_background": "light"
     },
     "output_type": "display_data"
    }
   ],
   "source": [
    "df_stock_market[\"Daily Return {:}\".format(stock_market)] = (df_stock_market[\"Adj Close {:}\".format(stock_market)]-df_stock_market[\"Adj Close {:}\".format(stock_market)].shift(1))/df_stock_market[\"Adj Close {:}\".format(stock_market)].shift(1)\n",
    "df_stock_market.index = pd.to_datetime(df_stock_market.index)\n",
    "df_stock_market[\"Daily Return {:}\".format(stock_market)].plot(title=\"Daily Return of {:}\".format(stock_market))\n"
   ]
  },
  {
   "cell_type": "markdown",
   "metadata": {},
   "source": [
    "This is the daily return of the S&P 500."
   ]
  },
  {
   "cell_type": "markdown",
   "metadata": {},
   "source": [
    "### Finding the covariance \n",
    "\n"
   ]
  },
  {
   "cell_type": "code",
   "execution_count": 49,
   "metadata": {},
   "outputs": [
    {
     "data": {
      "text/plain": [
       "<matplotlib.axes._subplots.AxesSubplot at 0x287fbb145c0>"
      ]
     },
     "execution_count": 49,
     "metadata": {},
     "output_type": "execute_result"
    },
    {
     "data": {
      "image/png": "[encoded data removed]",
      "text/plain": [
       "<Figure size 432x288 with 1 Axes>"
      ]
     },
     "metadata": {
      "needs_background": "light"
     },
     "output_type": "display_data"
    }
   ],
   "source": [
    "merged=pd.concat([df,df_stock_market],axis=1,join_axes=[df_stock_market.index])\n",
    "merged=merged.dropna()\n",
    "merged.plot.scatter(x=\"Daily Return {:}\".format(stock_market),y=\"Daily Return {:}\".format(company))"
   ]
  },
  {
   "cell_type": "markdown",
   "metadata": {},
   "source": [
    "This scatter plot shows that there is some relation between the movements of the stockmarket and the movements of Tesla. Notice how the the middle cluster of the data looks like a stretched out football? This is what we expect to see when there is no underlying pattern. This topic will be covered in another notebook.\n",
    "\n",
    "\n",
    "#### Covariance and Variance Values \n",
    "\n",
    "We are going to use numpy's covariance function `numpy.cov` to get a matrix of variance values which give you the corresponding variances. \n",
    "$ X_{ij}$ gives you the Variance of the i row with the corresponding j column which happen to be made out of our two columns of the daily return of Ford (F) and the S&P 500. "
   ]
  },
  {
   "cell_type": "code",
   "execution_count": 50,
   "metadata": {},
   "outputs": [
    {
     "name": "stdout",
     "output_type": "stream",
     "text": [
      "[[0.00014481 0.00016608]\n",
      " [0.00016608 0.00069049]]\n",
      "0.00014481005953076833\n"
     ]
    }
   ],
   "source": [
    "cov=np.cov(merged[\"Daily Return {:}\".format(stock_market)],merged[\"Daily Return {:}\".format(company)])\n",
    "print(cov)##This is the covariance matrix\n",
    "var_of_stock_market=cov[0][0]\n",
    "covar=cov[0][1]\n",
    "print(var_of_stock_market)"
   ]
  },
  {
   "cell_type": "markdown",
   "metadata": {},
   "source": [
    "Now that we have all the values we compute $\\beta$"
   ]
  },
  {
   "cell_type": "code",
   "execution_count": 51,
   "metadata": {},
   "outputs": [
    {
     "name": "stdout",
     "output_type": "stream",
     "text": [
      "beta is equal to 1.1469\n"
     ]
    }
   ],
   "source": [
    "beta=covar/var_of_stock_market\n",
    "print(\"beta is equal to {0:.4f}\".format(beta))"
   ]
  },
  {
   "cell_type": "markdown",
   "metadata": {},
   "source": [
    "## Checking Our Results Using Linear Regression\n",
    "\n",
    "We are going to use a linear regression line to compare the results."
   ]
  },
  {
   "cell_type": "code",
   "execution_count": 52,
   "metadata": {},
   "outputs": [],
   "source": [
    "#For statistical tools\n",
    "import statsmodels.api as sm"
   ]
  },
  {
   "cell_type": "code",
   "execution_count": 53,
   "metadata": {},
   "outputs": [
    {
     "name": "stderr",
     "output_type": "stream",
     "text": [
      "C:\\Users\\sespejog\\Anaconda3\\lib\\site-packages\\numpy\\core\\fromnumeric.py:2389: FutureWarning: Method .ptp is deprecated and will be removed in a future version. Use numpy.ptp instead.\n",
      "  return ptp(axis=axis, out=out, **kwargs)\n"
     ]
    },
    {
     "data": {
      "text/html": [
       "<table class=\"simpletable\">\n",
       "<caption>OLS Regression Results</caption>\n",
       "<tr>\n",
       "  <th>Dep. Variable:</th>     <td>Daily Return F</td>  <th>  R-squared:         </th>  <td>   0.276</td> \n",
       "</tr>\n",
       "<tr>\n",
       "  <th>Model:</th>                   <td>OLS</td>       <th>  Adj. R-squared:    </th>  <td>   0.276</td> \n",
       "</tr>\n",
       "<tr>\n",
       "  <th>Method:</th>             <td>Least Squares</td>  <th>  F-statistic:       </th>  <td>   1869.</td> \n",
       "</tr>\n",
       "<tr>\n",
       "  <th>Date:</th>             <td>Mon, 08 Jul 2019</td> <th>  Prob (F-statistic):</th>   <td>  0.00</td>  \n",
       "</tr>\n",
       "<tr>\n",
       "  <th>Time:</th>                 <td>16:16:00</td>     <th>  Log-Likelihood:    </th>  <td>  11687.</td> \n",
       "</tr>\n",
       "<tr>\n",
       "  <th>No. Observations:</th>      <td>  4907</td>      <th>  AIC:               </th> <td>-2.337e+04</td>\n",
       "</tr>\n",
       "<tr>\n",
       "  <th>Df Residuals:</th>          <td>  4905</td>      <th>  BIC:               </th> <td>-2.336e+04</td>\n",
       "</tr>\n",
       "<tr>\n",
       "  <th>Df Model:</th>              <td>     1</td>      <th>                     </th>      <td> </td>    \n",
       "</tr>\n",
       "<tr>\n",
       "  <th>Covariance Type:</th>      <td>nonrobust</td>    <th>                     </th>      <td> </td>    \n",
       "</tr>\n",
       "</table>\n",
       "<table class=\"simpletable\">\n",
       "<tr>\n",
       "          <td></td>            <th>coef</th>     <th>std err</th>      <th>t</th>      <th>P>|t|</th>  <th>[0.025</th>    <th>0.975]</th>  \n",
       "</tr>\n",
       "<tr>\n",
       "  <th>const</th>            <td>-7.857e-05</td> <td>    0.000</td> <td>   -0.246</td> <td> 0.806</td> <td>   -0.001</td> <td>    0.001</td>\n",
       "</tr>\n",
       "<tr>\n",
       "  <th>Daily Return SPY</th> <td>    1.1469</td> <td>    0.027</td> <td>   43.226</td> <td> 0.000</td> <td>    1.095</td> <td>    1.199</td>\n",
       "</tr>\n",
       "</table>\n",
       "<table class=\"simpletable\">\n",
       "<tr>\n",
       "  <th>Omnibus:</th>       <td>1656.439</td> <th>  Durbin-Watson:     </th> <td>   2.056</td> \n",
       "</tr>\n",
       "<tr>\n",
       "  <th>Prob(Omnibus):</th>  <td> 0.000</td>  <th>  Jarque-Bera (JB):  </th> <td>59895.685</td>\n",
       "</tr>\n",
       "<tr>\n",
       "  <th>Skew:</th>           <td> 0.938</td>  <th>  Prob(JB):          </th> <td>    0.00</td> \n",
       "</tr>\n",
       "<tr>\n",
       "  <th>Kurtosis:</th>       <td>20.013</td>  <th>  Cond. No.          </th> <td>    83.1</td> \n",
       "</tr>\n",
       "</table><br/><br/>Warnings:<br/>[1] Standard Errors assume that the covariance matrix of the errors is correctly specified."
      ],
      "text/plain": [
       "<class 'statsmodels.iolib.summary.Summary'>\n",
       "\"\"\"\n",
       "                            OLS Regression Results                            \n",
       "==============================================================================\n",
       "Dep. Variable:         Daily Return F   R-squared:                       0.276\n",
       "Model:                            OLS   Adj. R-squared:                  0.276\n",
       "Method:                 Least Squares   F-statistic:                     1869.\n",
       "Date:                Mon, 08 Jul 2019   Prob (F-statistic):               0.00\n",
       "Time:                        16:16:00   Log-Likelihood:                 11687.\n",
       "No. Observations:                4907   AIC:                        -2.337e+04\n",
       "Df Residuals:                    4905   BIC:                        -2.336e+04\n",
       "Df Model:                           1                                         \n",
       "Covariance Type:            nonrobust                                         \n",
       "====================================================================================\n",
       "                       coef    std err          t      P>|t|      [0.025      0.975]\n",
       "------------------------------------------------------------------------------------\n",
       "const            -7.857e-05      0.000     -0.246      0.806      -0.001       0.001\n",
       "Daily Return SPY     1.1469      0.027     43.226      0.000       1.095       1.199\n",
       "==============================================================================\n",
       "Omnibus:                     1656.439   Durbin-Watson:                   2.056\n",
       "Prob(Omnibus):                  0.000   Jarque-Bera (JB):            59895.685\n",
       "Skew:                           0.938   Prob(JB):                         0.00\n",
       "Kurtosis:                      20.013   Cond. No.                         83.1\n",
       "==============================================================================\n",
       "\n",
       "Warnings:\n",
       "[1] Standard Errors assume that the covariance matrix of the errors is correctly specified.\n",
       "\"\"\""
      ]
     },
     "execution_count": 53,
     "metadata": {},
     "output_type": "execute_result"
    }
   ],
   "source": [
    "X=sm.add_constant(merged[\"Daily Return {:}\".format(stock_market)])\n",
    "Y=merged[\"Daily Return {:}\".format(company)]\n",
    "model=sm.OLS(Y,X).fit()\n",
    "model.summary()"
   ]
  }
 ],
 "metadata": {
  "kernelspec": {
   "display_name": "Python 3",
   "language": "python",
   "name": "python3"
  },
  "language_info": {
   "codemirror_mode": {
    "name": "ipython",
    "version": 3
   },
   "file_extension": ".py",
   "mimetype": "text/x-python",
   "name": "python",
   "nbconvert_exporter": "python",
   "pygments_lexer": "ipython3",
   "version": "3.7.3"
  },
  "latex_envs": {
   "LaTeX_envs_menu_present": true,
   "autoclose": false,
   "autocomplete": true,
   "bibliofile": "biblio.bib",
   "cite_by": "apalike",
   "current_citInitial": 1,
   "eqLabelWithNumbers": true,
   "eqNumInitial": 1,
   "hotkeys": {
    "equation": "Ctrl-E",
    "itemize": "Ctrl-I"
   },
   "labels_anchors": false,
   "latex_user_defs": false,
   "report_style_numbering": false,
   "user_envs_cfg": false
  }
 },
 "nbformat": 4,
 "nbformat_minor": 2
}
