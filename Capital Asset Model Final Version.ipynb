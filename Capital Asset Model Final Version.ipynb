{
 "cells": [
  {
   "cell_type": "markdown",
   "metadata": {},
   "source": [
    "# The Capital Asset Pricing Model\n",
    "\n",
    "The Capital Asset Pricing Model measures the risk premium for a capital investment by comparing the expected return on that investment with the expected return of the entire market. In order to get we will use the equation:\n",
    "$$\n",
    "r_d - r_f = \\beta(r_m - r_f)\n",
    "$$\n",
    "Where $r_d$ is the discount rate. and $r_m$ is the expected return on the stock market and \n",
    "$r_f$ is the risk free, which we will use  US. government bonds as the risk free rate. $\\beta$\n",
    "is called asset beta, it measures the sensitivity of the asset's return to market movements, therefore this is the assets *nondiversifiable risk*. This is the covariance of the growth of Tesla and the S&P 500. \n",
    "\n",
    "   ## Finding $ \\beta$\n",
    "   \n",
    " $\\beta$ Is the measured by taking the covariance of the daily returns of the stock market and the Tesla divided over the variance of the return of the stock market.\n",
    " \n",
    " $$ \\beta = \\frac{Cov(R_m, R_T)}{Var(R_m)}$$ \n",
    "\n",
    "In which $R_T$ is the daily return of Tesla  and $R_m$ the return of the S&P 500.\n",
    "\n"
   ]
  },
  {
   "cell_type": "code",
   "execution_count": 4,
   "metadata": {},
   "outputs": [],
   "source": [
    "#For Time and Dates\n",
    "import datetime as dt\n",
    "\n",
    "#For plotting\n",
    "import matplotlib.pyplot as plt\n",
    "from matplotlib import style\n",
    "\n",
    "#For Data Wrangling\n",
    "import pandas as pd \n",
    "import numpy as np\n",
    "#import Quandl # stock data \n",
    "\n",
    "#For Web Scrapping\n",
    "import pandas_datareader.data as web\n",
    "\n",
    "#For statistical tools\n",
    "import statsmodels.api as sm"
   ]
  },
  {
   "cell_type": "code",
   "execution_count": 5,
   "metadata": {},
   "outputs": [],
   "source": [
    "start=dt.datetime(2000,1,1)\n",
    "todayraw=str(pd.to_datetime(\"today\")).split()[0]\n",
    "todaylist=[int(i) for i in todayraw.split(\"-\")]\n",
    "end=dt.datetime(todaylist[0],todaylist[1],todaylist[2])\n",
    "df =web.DataReader('TSLA','yahoo',start,end)\n",
    "##This loads data for Tesla\n"
   ]
  },
  {
   "cell_type": "code",
   "execution_count": 6,
   "metadata": {},
   "outputs": [
    {
     "data": {
      "text/plain": [
       "<matplotlib.axes._subplots.AxesSubplot at 0x173c6a3d550>"
      ]
     },
     "execution_count": 6,
     "metadata": {},
     "output_type": "execute_result"
    },
    {
     "data": {
      "image/png": "[encoded data removed]",
      "text/plain": [
       "<Figure size 432x288 with 1 Axes>"
      ]
     },
     "metadata": {
      "needs_background": "light"
     },
     "output_type": "display_data"
    }
   ],
   "source": [
    "df[\"Daily Return\"]=(df[\"Adj Close\"]-df[\"Adj Close\"].shift(1))/df[\"Adj Close\"]\n",
    "moving_slope_avg = df[\"Daily Return\"].mean()\n",
    "df[\"Daily Return\"].plot()"
   ]
  },
  {
   "cell_type": "markdown",
   "metadata": {},
   "source": [
    "This is the daily return for Tesla. Next We find the daily return for the SP 500"
   ]
  },
  {
   "cell_type": "code",
   "execution_count": 7,
   "metadata": {},
   "outputs": [
    {
     "data": {
      "text/html": [
       "<div>\n",
       "<style scoped>\n",
       "    .dataframe tbody tr th:only-of-type {\n",
       "        vertical-align: middle;\n",
       "    }\n",
       "\n",
       "    .dataframe tbody tr th {\n",
       "        vertical-align: top;\n",
       "    }\n",
       "\n",
       "    .dataframe thead th {\n",
       "        text-align: right;\n",
       "    }\n",
       "</style>\n",
       "<table border=\"1\" class=\"dataframe\">\n",
       "  <thead>\n",
       "    <tr style=\"text-align: right;\">\n",
       "      <th></th>\n",
       "      <th>High SPY</th>\n",
       "      <th>Low SPY</th>\n",
       "      <th>Open SPY</th>\n",
       "      <th>Close SPY</th>\n",
       "      <th>Volume SPY</th>\n",
       "      <th>Adj Close SPY</th>\n",
       "    </tr>\n",
       "    <tr>\n",
       "      <th>Date</th>\n",
       "      <th></th>\n",
       "      <th></th>\n",
       "      <th></th>\n",
       "      <th></th>\n",
       "      <th></th>\n",
       "      <th></th>\n",
       "    </tr>\n",
       "  </thead>\n",
       "  <tbody>\n",
       "    <tr>\n",
       "      <th>2000-01-03</th>\n",
       "      <td>148.250000</td>\n",
       "      <td>143.875000</td>\n",
       "      <td>148.250000</td>\n",
       "      <td>145.4375</td>\n",
       "      <td>8164300.0</td>\n",
       "      <td>100.934456</td>\n",
       "    </tr>\n",
       "    <tr>\n",
       "      <th>2000-01-04</th>\n",
       "      <td>144.062500</td>\n",
       "      <td>139.640594</td>\n",
       "      <td>143.531204</td>\n",
       "      <td>139.7500</td>\n",
       "      <td>8089800.0</td>\n",
       "      <td>96.987358</td>\n",
       "    </tr>\n",
       "    <tr>\n",
       "      <th>2000-01-05</th>\n",
       "      <td>141.531204</td>\n",
       "      <td>137.250000</td>\n",
       "      <td>139.937500</td>\n",
       "      <td>140.0000</td>\n",
       "      <td>12177900.0</td>\n",
       "      <td>97.160812</td>\n",
       "    </tr>\n",
       "    <tr>\n",
       "      <th>2000-01-06</th>\n",
       "      <td>141.500000</td>\n",
       "      <td>137.750000</td>\n",
       "      <td>139.625000</td>\n",
       "      <td>137.7500</td>\n",
       "      <td>6227200.0</td>\n",
       "      <td>95.599327</td>\n",
       "    </tr>\n",
       "    <tr>\n",
       "      <th>2000-01-07</th>\n",
       "      <td>145.750000</td>\n",
       "      <td>140.062500</td>\n",
       "      <td>140.312500</td>\n",
       "      <td>145.7500</td>\n",
       "      <td>8066500.0</td>\n",
       "      <td>101.151382</td>\n",
       "    </tr>\n",
       "  </tbody>\n",
       "</table>\n",
       "</div>"
      ],
      "text/plain": [
       "              High SPY     Low SPY    Open SPY  Close SPY  Volume SPY  \\\n",
       "Date                                                                    \n",
       "2000-01-03  148.250000  143.875000  148.250000   145.4375   8164300.0   \n",
       "2000-01-04  144.062500  139.640594  143.531204   139.7500   8089800.0   \n",
       "2000-01-05  141.531204  137.250000  139.937500   140.0000  12177900.0   \n",
       "2000-01-06  141.500000  137.750000  139.625000   137.7500   6227200.0   \n",
       "2000-01-07  145.750000  140.062500  140.312500   145.7500   8066500.0   \n",
       "\n",
       "            Adj Close SPY  \n",
       "Date                       \n",
       "2000-01-03     100.934456  \n",
       "2000-01-04      96.987358  \n",
       "2000-01-05      97.160812  \n",
       "2000-01-06      95.599327  \n",
       "2000-01-07     101.151382  "
      ]
     },
     "execution_count": 7,
     "metadata": {},
     "output_type": "execute_result"
    }
   ],
   "source": [
    "start = dt.datetime(2000,1,1)\n",
    "end = dt.datetime(todaylist[0],todaylist[1],todaylist[2])\n",
    "df_SPY = web.DataReader('SPY','yahoo',start,end)\n",
    "df_SPY = df_SPY.rename(index=str, columns={\"Low\": \"Low SPY\", \"Open\": \"Open SPY\",\"Close\":\"Close SPY\",\"Volume\": \"Volume SPY\",\"Adj Close\":\"Adj Close SPY\",\"High\":\"High SPY\"})\n",
    "df_SPY.index = pd.to_datetime(df_SPY.index)\n",
    "df_SPY.head()"
   ]
  },
  {
   "cell_type": "code",
   "execution_count": 8,
   "metadata": {},
   "outputs": [
    {
     "data": {
      "text/plain": [
       "<matplotlib.axes._subplots.AxesSubplot at 0x173c656e9e8>"
      ]
     },
     "execution_count": 8,
     "metadata": {},
     "output_type": "execute_result"
    },
    {
     "data": {
      "image/png": "[encoded data removed]",
      "text/plain": [
       "<Figure size 432x288 with 1 Axes>"
      ]
     },
     "metadata": {
      "needs_background": "light"
     },
     "output_type": "display_data"
    }
   ],
   "source": [
    "df_SPY[\"Daily Return SPY\"] = (df_SPY[\"Adj Close SPY\"]-df_SPY[\"Adj Close SPY\"].shift(1))/df_SPY[\"Adj Close SPY\"]\n",
    "df_SPY.index = pd.to_datetime(df_SPY.index)\n",
    "df_SPY[\"Daily Return SPY\"].plot()\n"
   ]
  },
  {
   "cell_type": "markdown",
   "metadata": {},
   "source": [
    "This is the daily return of the S&P 500."
   ]
  },
  {
   "cell_type": "markdown",
   "metadata": {},
   "source": [
    "### Finding the covariance \n",
    "\n"
   ]
  },
  {
   "cell_type": "code",
   "execution_count": 9,
   "metadata": {},
   "outputs": [
    {
     "data": {
      "text/plain": [
       "<matplotlib.axes._subplots.AxesSubplot at 0x173c6f65f28>"
      ]
     },
     "execution_count": 9,
     "metadata": {},
     "output_type": "execute_result"
    },
    {
     "data": {
      "image/png": "[encoded data removed]",
      "text/plain": [
       "<Figure size 432x288 with 1 Axes>"
      ]
     },
     "metadata": {
      "needs_background": "light"
     },
     "output_type": "display_data"
    }
   ],
   "source": [
    "merged=pd.concat([df,df_SPY],axis=1,join_axes=[df_SPY.index])\n",
    "merged=merged.dropna()\n",
    "merged.plot.scatter(y=\"Adj Close\",x=\"Adj Close SPY\")"
   ]
  },
  {
   "cell_type": "markdown",
   "metadata": {},
   "source": [
    "This scatter plot shows that there is some relation between the movements of the stockmarket and the movements of Tesla. \n",
    "\n",
    "\n",
    "#### Covariance and Variance Values \n",
    "\n",
    "We are going to use numpy's covariance function `numpy.cov` to get a matrix of variance values which give you the corresponding variances. \n",
    "$ X_{ij}$ gives you the Variance of the i row with the corresponding j column which happen to be made out of our two columns of the daily return of Tesla and the S&P 500. "
   ]
  },
  {
   "cell_type": "code",
   "execution_count": 15,
   "metadata": {},
   "outputs": [
    {
     "name": "stdout",
     "output_type": "stream",
     "text": [
      "[[1.04364654e-03 1.07622220e-04]\n",
      " [1.07622220e-04 8.33648961e-05]]\n"
     ]
    },
    {
     "data": {
      "text/plain": [
       "8.336489610593157e-05"
      ]
     },
     "execution_count": 15,
     "metadata": {},
     "output_type": "execute_result"
    }
   ],
   "source": [
    "cov=np.cov(merged[\"Daily Return\"],merged[\"Daily Return SPY\"])\n",
    "print(cov)##This is the covariance matrix\n",
    "var_of_SPY=cov[1][1]\n",
    "covar=cov[0][1]\n",
    "var_of_SPY"
   ]
  },
  {
   "cell_type": "markdown",
   "metadata": {},
   "source": [
    "Now that we have all the values we compute $\\beta$"
   ]
  },
  {
   "cell_type": "code",
   "execution_count": 20,
   "metadata": {},
   "outputs": [
    {
     "name": "stdout",
     "output_type": "stream",
     "text": [
      "beta is equal to 1.29\n"
     ]
    }
   ],
   "source": [
    "beta=covar/var_of_SPY\n",
    "print(\"beta is equal to {0:.2f}\".format(beta))"
   ]
  }
 ],
 "metadata": {
  "kernelspec": {
   "display_name": "Python 3",
   "language": "python",
   "name": "python3"
  },
  "language_info": {
   "codemirror_mode": {
    "name": "ipython",
    "version": 3
   },
   "file_extension": ".py",
   "mimetype": "text/x-python",
   "name": "python",
   "nbconvert_exporter": "python",
   "pygments_lexer": "ipython3",
   "version": "3.7.3"
  },
  "latex_envs": {
   "LaTeX_envs_menu_present": true,
   "autoclose": false,
   "autocomplete": true,
   "bibliofile": "biblio.bib",
   "cite_by": "apalike",
   "current_citInitial": 1,
   "eqLabelWithNumbers": true,
   "eqNumInitial": 1,
   "hotkeys": {
    "equation": "Ctrl-E",
    "itemize": "Ctrl-I"
   },
   "labels_anchors": false,
   "latex_user_defs": false,
   "report_style_numbering": false,
   "user_envs_cfg": false
  }
 },
 "nbformat": 4,
 "nbformat_minor": 2
}
